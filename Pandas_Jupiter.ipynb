{
 "cells": [
  {
   "cell_type": "markdown",
   "id": "9d16395d",
   "metadata": {},
   "source": [
    "# Titanic_Dataset"
   ]
  },
  {
   "cell_type": "markdown",
   "id": "446ccf83",
   "metadata": {},
   "source": [
    "Importing pandas and matplotlib"
   ]
  },
  {
   "cell_type": "code",
   "execution_count": 19,
   "id": "5bb06443",
   "metadata": {},
   "outputs": [],
   "source": [
    "import pandas as pd\n",
    "import matplotlib.pyplot as plt"
   ]
  },
  {
   "cell_type": "markdown",
   "id": "e9a3f221",
   "metadata": {},
   "source": [
    "Reading csv file"
   ]
  },
  {
   "cell_type": "code",
   "execution_count": 102,
   "id": "971f8b36",
   "metadata": {},
   "outputs": [],
   "source": [
    "df = pd.read_csv('data.csv', usecols=['Survived', 'Sex'])"
   ]
  },
  {
   "cell_type": "markdown",
   "id": "f0421b90",
   "metadata": {},
   "source": [
    "Create number of males/females and death rate"
   ]
  },
  {
   "cell_type": "code",
   "execution_count": null,
   "id": "f2bdc3e5",
   "metadata": {},
   "outputs": [],
   "source": [
    "Males = 0\n",
    "Females = 0\n",
    "Dead_males = 0\n",
    "Dead_females = 0\n",
    "for index, row in df.iterrows():\n",
    "    if row['Sex'] == 'male':\n",
    "        Males += 1\n",
    "        if row['Survived'] == 0:\n",
    "            Dead_males += 1\n",
    "    if row['Sex'] == 'female':\n",
    "        Females += 1\n",
    "        if row['Survived'] == 0:\n",
    "            Dead_females += 1"
   ]
  },
  {
   "cell_type": "markdown",
   "id": "1b3f4322",
   "metadata": {},
   "source": [
    "Create DataFrame"
   ]
  },
  {
   "cell_type": "code",
   "execution_count": 103,
   "id": "cd91a74f",
   "metadata": {},
   "outputs": [
    {
     "data": {
      "text/html": [
       "<div>\n",
       "<style scoped>\n",
       "    .dataframe tbody tr th:only-of-type {\n",
       "        vertical-align: middle;\n",
       "    }\n",
       "\n",
       "    .dataframe tbody tr th {\n",
       "        vertical-align: top;\n",
       "    }\n",
       "\n",
       "    .dataframe thead th {\n",
       "        text-align: right;\n",
       "    }\n",
       "</style>\n",
       "<table border=\"1\" class=\"dataframe\">\n",
       "  <thead>\n",
       "    <tr style=\"text-align: right;\">\n",
       "      <th></th>\n",
       "      <th>Males</th>\n",
       "      <th>Females</th>\n",
       "      <th>Dead_males</th>\n",
       "      <th>Dead_females</th>\n",
       "    </tr>\n",
       "  </thead>\n",
       "  <tbody>\n",
       "    <tr>\n",
       "      <th>0</th>\n",
       "      <td>577</td>\n",
       "      <td>314</td>\n",
       "      <td>468</td>\n",
       "      <td>81</td>\n",
       "    </tr>\n",
       "  </tbody>\n",
       "</table>\n",
       "</div>"
      ],
      "text/plain": [
       "   Males  Females  Dead_males  Dead_females\n",
       "0    577      314         468            81"
      ]
     },
     "execution_count": 103,
     "metadata": {},
     "output_type": "execute_result"
    }
   ],
   "source": [
    "d = {'Males': [Males], 'Females': [Females], 'Dead_males': [Dead_males], 'Dead_females': [Dead_females]}\n",
    "df = pd.DataFrame(data=d)\n",
    "df"
   ]
  },
  {
   "cell_type": "markdown",
   "id": "ec6dbadc",
   "metadata": {},
   "source": [
    "Create a plot"
   ]
  },
  {
   "cell_type": "code",
   "execution_count": 101,
   "id": "9b099312",
   "metadata": {},
   "outputs": [
    {
     "data": {
      "text/plain": [
       "<AxesSubplot:>"
      ]
     },
     "execution_count": 101,
     "metadata": {},
     "output_type": "execute_result"
    },
    {
     "data": {
      "image/png": "[encoded data removed]",
      "text/plain": [
       "<Figure size 432x288 with 1 Axes>"
      ]
     },
     "metadata": {
      "needs_background": "light"
     },
     "output_type": "display_data"
    }
   ],
   "source": [
    "df.plot.bar()"
   ]
  }
 ],
 "metadata": {
  "kernelspec": {
   "display_name": "Python 3",
   "language": "python",
   "name": "python3"
  },
  "language_info": {
   "codemirror_mode": {
    "name": "ipython",
    "version": 3
   },
   "file_extension": ".py",
   "mimetype": "text/x-python",
   "name": "python",
   "nbconvert_exporter": "python",
   "pygments_lexer": "ipython3",
   "version": "3.8.10"
  }
 },
 "nbformat": 4,
 "nbformat_minor": 5
}
